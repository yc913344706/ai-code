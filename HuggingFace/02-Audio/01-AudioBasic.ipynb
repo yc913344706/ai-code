{
 "cells": [
  {
   "cell_type": "markdown",
   "id": "2c5231ab-1c8b-49b9-b68e-da3062d11d79",
   "metadata": {},
   "source": [
    "# 1 base knowledge\n",
    "\n",
    "## 1.1 digital representation\n",
    "\n",
    "By nature, a sound wave is a continuous signal, meaning it contains an infinite number of signal values in a given time. This poses problems for digital devices which expect finite arrays. To be processed, stored, and transmitted by digital devices, the continuous sound wave needs to be converted into a series of discrete values, known as a digital representation.\n",
    "\n",
    "Let’s take a look at how we arrive from a continuous signal to this representation. The analog signal is first captured by a microphone, which converts the sound waves into an electrical signal. The electrical signal is then digitized by an Analog-to-Digital Converter to get the digital representation through sampling.\n",
    "\n",
    "## 1.2 sampling and sampling rate\n",
    "\n",
    "Sampling is the process of measuring the value of a continuous signal at fixed time steps. The sampled waveform is discrete, since it contains a finite number of signal values at uniform intervals.\n",
    "\n",
    "The sampling rate (also called sampling frequency) is the number of samples taken in one second and is measured in hertz (Hz).\n",
    "\n",
    "To give you a point of reference:\n",
    "- CD-quality audio has a sampling rate of 44,100 Hz, meaning samples are taken 44,100 times per second.\n",
    "- For comparison, high-resolution audio has a sampling rate of 192,000 Hz or 192 kHz.\n",
    "- A common sampling rate used in training speech models is 16,000 Hz or 16 kHz.\n",
    "\n",
    "The audible frequencies in human speech are below 8 kHz and therefore sampling speech at 16 kHz is sufficient. \n",
    "\n",
    "**all examples in dataset should have the same sampling rate**\n",
    "\n",
    "It’s important to ensure that all audio examples in your dataset have the same sampling rate when working on any audio task.\n",
    "\n",
    "If you plan to use custom audio data to fine-tune a pre-trained model, the sampling rate of your data should match the sampling rate of the data the model was pre-trained on.\n",
    "\n",
    "Since sequences are different for audio examples at different sampling rates, it will be challenging for models to generalize between sampling rates.\n",
    "\n",
    "**Resampling** is the process of making the sampling rates match, and is part of preprocessing the audio data.\n",
    "\n",
    "## 1.3 Amplitude and bit depth\n",
    "\n",
    "Sound is made by changes in air pressure at frequencies that are audible to humans.\n",
    "\n",
    "### 1.3.1 amplitude\n",
    "\n",
    "The amplitude of a sound describes the sound pressure level at any given instant and is measured in decibels (dB). \n",
    "\n",
    "We perceive the amplitude as loudness. \n",
    "\n",
    "To give you an example, a normal speaking voice is under 60 dB, and a rock concert can be at around 125 dB, pushing the limits of human hearing.\n",
    "\n",
    "The decibel scale for real-world audio starts at 0 dB, which represents the quietest possible sound humans can hear, and louder sounds have larger values. \n",
    "\n",
    "However, for digital audio signals, 0 dB is the loudest possible amplitude, while all other amplitudes are negative. As a quick rule of thumb: every -6 dB is a halving of the amplitude, and anything below -60 dB is generally inaudible unless you really crank up the volume.\n",
    "\n",
    "### 1.3.2 bit depth\n",
    "\n",
    "The bit depth of the sample determines with how much precision this amplitude value can be described. \n",
    "\n",
    "The higher the bit depth, the more faithfully the digital representation approximates the original continuous sound wave.\n",
    "\n",
    "The most common audio bit depths are 16-bit and 24-bit. \n",
    "\n",
    "In practice, the quantization noise of 16-bit audio is already small enough to be inaudible, and using higher bit depths is generally not necessary.\n",
    "\n",
    "You may also come across 32-bit audio. This stores the samples as floating-point values, whereas 16-bit and 24-bit audio use integer samples. \n",
    "\n",
    "## 1.4 different audio visualization\n",
    "\n",
    "### 1.4.1 Audio as a waveform\n",
    "\n",
    "You may have seen sounds visualized as a waveform, which plots the sample values over time and illustrates the changes in the sound’s amplitude. This is also known as **the time domain representation** of sound.\n",
    "\n",
    "- X axis: time\n",
    "- Y axis: amplitude\n",
    "\n",
    "### 1.4.2 frequency spectrum\n",
    "\n",
    "Another way to visualize audio data is to plot the frequency spectrum of an audio signal, also known as **the frequency domain representation**. \n",
    "\n",
    "The spectrum is computed using the discrete Fourier transform or DFT. It describes the individual frequencies that make up the signal and how strong they are.\n",
    "\n",
    "### 1.4.3 Spectrogram\n",
    "\n",
    "What if we want to see how the frequencies in an audio signal change? The trumpet plays several notes and they all have different frequencies. The problem is that the spectrum only shows a frozen snapshot of the frequencies at a given instant. The solution is to take multiple DFTs, each covering only a small slice of time, and stack the resulting spectra together into a spectrogram.\n",
    "\n",
    "### 1.4.4 Mel spectrogram\n",
    "\n",
    "A mel spectrogram is a variation of the spectrogram that is commonly used in speech processing and machine learning tasks. \n",
    "\n",
    "It is similar to a spectrogram in that it shows the frequency content of an audio signal over time, but on a different frequency axis.\n"
   ]
  },
  {
   "cell_type": "markdown",
   "id": "00a1ace0-98dd-4617-b363-ad72d94f943d",
   "metadata": {},
   "source": [
    "# 2 load dataset\n",
    "\n",
    "Let’s load and explore and audio dataset called MINDS-14, which contains recordings of people asking an e-banking system questions in several languages and dialects.\n",
    "\n",
    "```bash\n",
    "pip install datasets[audio]\n",
    "```\n",
    "## 2.1 load public dataset\n",
    "\n",
    "To load the MINDS-14 dataset, we need to copy the dataset’s identifier on the Hub (PolyAI/minds14) and pass it to the load_dataset function. We’ll also specify that we’re only interested in the Australian subset (en-AU) of the data, and limit it to the training split."
   ]
  },
  {
   "cell_type": "code",
   "execution_count": 9,
   "id": "147ef8d6-0d04-428c-bae4-8fb870990253",
   "metadata": {},
   "outputs": [
    {
     "data": {
      "text/plain": [
       "Dataset({\n",
       "    features: ['path', 'audio', 'transcription', 'english_transcription', 'intent_class', 'lang_id'],\n",
       "    num_rows: 654\n",
       "})"
      ]
     },
     "execution_count": 9,
     "metadata": {},
     "output_type": "execute_result"
    }
   ],
   "source": [
    "from datasets import load_dataset\n",
    "\n",
    "minds = load_dataset(\"PolyAI/minds14\", name=\"en-AU\", split=\"train\")\n",
    "minds"
   ]
  },
  {
   "cell_type": "code",
   "execution_count": 10,
   "id": "853fed00-3f00-49b7-a665-739de56c1e36",
   "metadata": {},
   "outputs": [
    {
     "data": {
      "text/plain": [
       "{'path': '/home/vayne/.cache/huggingface/datasets/downloads/extracted/475119a1ba320876be54807bc50ed242d5edfff38f91b147604bdb76a7b38d13/en-AU~PAY_BILL/response_4.wav',\n",
       " 'audio': {'path': '/home/vayne/.cache/huggingface/datasets/downloads/extracted/475119a1ba320876be54807bc50ed242d5edfff38f91b147604bdb76a7b38d13/en-AU~PAY_BILL/response_4.wav',\n",
       "  'array': array([ 0.        ,  0.00024414, -0.00024414, ..., -0.00024414,\n",
       "          0.00024414,  0.0012207 ]),\n",
       "  'sampling_rate': 8000},\n",
       " 'transcription': 'I would like to pay my electricity bill using my card can you please assist',\n",
       " 'english_transcription': 'I would like to pay my electricity bill using my card can you please assist',\n",
       " 'intent_class': 13,\n",
       " 'lang_id': 2}"
      ]
     },
     "execution_count": 10,
     "metadata": {},
     "output_type": "execute_result"
    }
   ],
   "source": [
    "example = minds[0]\n",
    "example\n",
    "# sampling_rate: 8000"
   ]
  },
  {
   "cell_type": "markdown",
   "id": "8d044b9d-18ca-4525-ba43-f8aca5eaa53c",
   "metadata": {},
   "source": [
    "## 2.2 launch audio"
   ]
  },
  {
   "cell_type": "code",
   "execution_count": 2,
   "id": "de070d7f-d5a0-4d0f-b772-3d992555cd7f",
   "metadata": {
    "scrolled": true
   },
   "outputs": [
    {
     "name": "stderr",
     "output_type": "stream",
     "text": [
      "/home/vayne/.e/jupyter/lib/python3.9/site-packages/gradio/processing_utils.py:574: UserWarning: Trying to convert audio automatically from float64 to 16-bit int format.\n",
      "  warnings.warn(warning.format(data.dtype))\n"
     ]
    },
    {
     "name": "stdout",
     "output_type": "stream",
     "text": [
      "Running on local URL:  http://127.0.0.1:7860\n",
      "Running on public URL: https://787ad23e991b50f2b8.gradio.live\n",
      "\n",
      "This share link expires in 72 hours. For free permanent hosting and GPU upgrades, run `gradio deploy` from Terminal to deploy to Spaces (https://huggingface.co/spaces)\n"
     ]
    },
    {
     "data": {
      "text/html": [
       "<div><iframe src=\"https://787ad23e991b50f2b8.gradio.live\" width=\"100%\" height=\"500\" allow=\"autoplay; camera; microphone; clipboard-read; clipboard-write;\" frameborder=\"0\" allowfullscreen></iframe></div>"
      ],
      "text/plain": [
       "<IPython.core.display.HTML object>"
      ]
     },
     "metadata": {},
     "output_type": "display_data"
    },
    {
     "name": "stdout",
     "output_type": "stream",
     "text": [
      "Keyboard interruption in main thread... closing server.\n",
      "Killing tunnel 127.0.0.1:7860 <> https://787ad23e991b50f2b8.gradio.live\n"
     ]
    },
    {
     "data": {
      "text/plain": []
     },
     "execution_count": 2,
     "metadata": {},
     "output_type": "execute_result"
    }
   ],
   "source": [
    "import gradio as gr\n",
    "\n",
    "\n",
    "def generate_audio():\n",
    "    example = minds.shuffle()[0]\n",
    "    audio = example[\"audio\"]\n",
    "    return (\n",
    "        audio[\"sampling_rate\"],\n",
    "        audio[\"array\"],\n",
    "    ), id2label(example[\"intent_class\"])\n",
    "\n",
    "id2label = minds.features[\"intent_class\"].int2str\n",
    "\n",
    "with gr.Blocks() as demo:\n",
    "    with gr.Column():\n",
    "        for _ in range(4):\n",
    "            audio, label = generate_audio()\n",
    "            output = gr.Audio(audio, label=label)\n",
    "\n",
    "demo.launch(debug=True, share=True)"
   ]
  },
  {
   "cell_type": "markdown",
   "id": "dcea13a5-eb99-4569-9300-0e648b34244b",
   "metadata": {},
   "source": [
    "## 2.3 plot waveform"
   ]
  },
  {
   "cell_type": "code",
   "execution_count": 6,
   "id": "6d0dcd2d-30e3-434c-b8e0-18478917f35e",
   "metadata": {},
   "outputs": [
    {
     "data": {
      "text/plain": [
       "<librosa.display.AdaptiveWaveplot at 0x1470805db2b0>"
      ]
     },
     "execution_count": 6,
     "metadata": {},
     "output_type": "execute_result"
    },
    {
     "data": {
      "image/png": "[encoded data removed]",
      "text/plain": [
       "<Figure size 1200x480 with 1 Axes>"
      ]
     },
     "metadata": {},
     "output_type": "display_data"
    }
   ],
   "source": [
    "import librosa\n",
    "import matplotlib.pyplot as plt\n",
    "import librosa.display\n",
    "\n",
    "array = example[\"audio\"][\"array\"]\n",
    "sampling_rate = example[\"audio\"][\"sampling_rate\"]\n",
    "\n",
    "plt.figure().set_figwidth(12)\n",
    "librosa.display.waveshow(array, sr=sampling_rate)"
   ]
  },
  {
   "cell_type": "markdown",
   "id": "0a5071ac-c0d6-4c4e-8f5a-0774c49cd60b",
   "metadata": {},
   "source": [
    "# 3 preprocessing the dataset\n",
    "\n",
    "In general, this will involve the following steps:\n",
    "\n",
    "- Resampling the audio data\n",
    "- Filtering the dataset\n",
    "- Converting audio data to model’s expected input\n",
    "\n",
    "## 3.1 Resampling the audio data\n",
    "The load_dataset function downloads audio examples with the sampling rate that they were published with. This is not always the sampling rate expected by a model you plan to train, or use for inference. If there’s a discrepancy between the sampling rates, you can resample the audio to the model’s expected sampling rate.\n",
    "\n",
    "To do so, use 🤗 Datasets’ cast_column method. This operation does not change the audio in-place, but rather signals to datasets to resample the audio examples on the fly when they are loaded. The following code will set the sampling rate to 16kHz:"
   ]
  },
  {
   "cell_type": "code",
   "execution_count": 12,
   "id": "917335b5-b090-4756-93a6-24750a664148",
   "metadata": {},
   "outputs": [
    {
     "data": {
      "text/plain": [
       "{'path': '/home/vayne/.cache/huggingface/datasets/downloads/extracted/475119a1ba320876be54807bc50ed242d5edfff38f91b147604bdb76a7b38d13/en-AU~PAY_BILL/response_4.wav',\n",
       " 'audio': {'path': '/home/vayne/.cache/huggingface/datasets/downloads/extracted/475119a1ba320876be54807bc50ed242d5edfff38f91b147604bdb76a7b38d13/en-AU~PAY_BILL/response_4.wav',\n",
       "  'array': array([2.36120541e-05, 1.92325053e-04, 2.19284673e-04, ...,\n",
       "         9.40908678e-04, 1.16613181e-03, 7.20883254e-04]),\n",
       "  'sampling_rate': 16000},\n",
       " 'transcription': 'I would like to pay my electricity bill using my card can you please assist',\n",
       " 'english_transcription': 'I would like to pay my electricity bill using my card can you please assist',\n",
       " 'intent_class': 13,\n",
       " 'lang_id': 2}"
      ]
     },
     "execution_count": 12,
     "metadata": {},
     "output_type": "execute_result"
    }
   ],
   "source": [
    "from datasets import Audio\n",
    "\n",
    "minds = minds.cast_column(\"audio\", Audio(sampling_rate=16_000))\n",
    "\n",
    "minds[0]"
   ]
  },
  {
   "cell_type": "markdown",
   "id": "f7484303-421f-412f-9a7b-9628db80bd10",
   "metadata": {},
   "source": [
    "## 3.2 Filtering the dataset\n",
    "\n",
    "You may need to filter the data based on some criteria. One of the common cases involves limiting the audio examples to a certain duration.\n",
    "\n",
    "For instance, we might want to filter out any examples longer than 20s to prevent out-of-memory errors when training a model.\n",
    "\n",
    "### 3.2.1 filter function\n",
    "\n",
    "We can do this by using the 🤗 Datasets’ filter method and passing a function with filtering logic to it. The filtering function can be applied to a dataset’s column."
   ]
  },
  {
   "cell_type": "code",
   "execution_count": 13,
   "id": "1bdfc60a-81f7-4a0e-9211-15fa69690d65",
   "metadata": {},
   "outputs": [],
   "source": [
    "MAX_DURATION_IN_SECONDS = 20.0\n",
    "\n",
    "def is_audio_length_in_range(input_length):\n",
    "    return input_length < MAX_DURATION_IN_SECONDS"
   ]
  },
  {
   "cell_type": "markdown",
   "id": "f326fa9a-0d8b-4cd4-b49d-dbac013c7a24",
   "metadata": {},
   "source": [
    "### 3.2.2 add column to Dataset\n",
    "\n",
    "But we do not have a column with audio track duration in this dataset. However, we can create one, filter based on the values in that column, and then remove it."
   ]
  },
  {
   "cell_type": "code",
   "execution_count": 14,
   "id": "7f3c7a08-9aa4-4d82-8aca-9914f3ba77f0",
   "metadata": {},
   "outputs": [
    {
     "data": {
      "application/vnd.jupyter.widget-view+json": {
       "model_id": "c11d05869c734cb3b00563aed0c45659",
       "version_major": 2,
       "version_minor": 0
      },
      "text/plain": [
       "Filter:   0%|          | 0/654 [00:00<?, ? examples/s]"
      ]
     },
     "metadata": {},
     "output_type": "display_data"
    },
    {
     "data": {
      "text/plain": [
       "Dataset({\n",
       "    features: ['path', 'audio', 'transcription', 'english_transcription', 'intent_class', 'lang_id'],\n",
       "    num_rows: 624\n",
       "})"
      ]
     },
     "execution_count": 14,
     "metadata": {},
     "output_type": "execute_result"
    }
   ],
   "source": [
    "# use librosa to get example's duration from the audio file\n",
    "new_column = [librosa.get_duration(path=x) for x in minds[\"path\"]]\n",
    "minds = minds.add_column(\"duration\", new_column)\n",
    "\n",
    "# use 🤗 Datasets' `filter` method to apply the filtering function\n",
    "minds = minds.filter(is_audio_length_in_range, input_columns=[\"duration\"])\n",
    "\n",
    "# remove the temporary helper column\n",
    "minds = minds.remove_columns([\"duration\"])\n",
    "minds"
   ]
  },
  {
   "cell_type": "markdown",
   "id": "99b03ddf-1935-46c1-8e3e-6b0dc236f8de",
   "metadata": {},
   "source": [
    "### 3.2.3 Converting audio data to model’s expected input\n",
    "\n",
    "#### 3.2.3.1 feature extractor class\n",
    "\n",
    "The requirements for the input features may vary from one model to another — they depend on the model’s architecture, and the data it was pre-trained with. \n",
    "\n",
    "The good news is, for every supported audio model, 🤗 Transformers offer a feature extractor class that can convert raw audio data into the input features the model expects.\n",
    "\n",
    "The model’s feature extractor class takes care of transforming raw audio data to the format that the model expects.\n",
    "\n",
    "#### 3.2.3.2 demo for Whisper\n",
    "\n",
    "Let’s take a look at [Whisper](https://huggingface.co/papers/2212.04356)’s feature extractor to understand some common feature extraction transformations. Whisper is a pre-trained model for automatic speech recognition (ASR) published in September 2022 by Alec Radford et al. from OpenAI.\n",
    "\n",
    "```python\n",
    "from transformers import WhisperFeatureExtractor\n",
    "\n",
    "feature_extractor = WhisperFeatureExtractor.from_pretrained(\"openai/whisper-small\")\n",
    "\n",
    "def prepare_dataset(example):\n",
    "    audio = example[\"audio\"]\n",
    "    features = feature_extractor(\n",
    "        audio[\"array\"], sampling_rate=audio[\"sampling_rate\"], padding=True\n",
    "    )\n",
    "    return features\n",
    "\n",
    "# use feature extractor to all dataset\n",
    "minds = minds.map(prepare_dataset)\n",
    "minds\n",
    "\"\"\"\n",
    "Dataset(\n",
    "    {\n",
    "        features: [\"path\", \"audio\", \"transcription\", \"intent_class\", \"input_features\"],\n",
    "        num_rows: 624,\n",
    "    }\n",
    ")\n",
    "\"\"\"\n",
    "\n",
    "# visualization by input_features\n",
    "import numpy as np\n",
    "\n",
    "example = minds[0]\n",
    "input_features = example[\"input_features\"]\n",
    "\n",
    "plt.figure().set_figwidth(12)\n",
    "librosa.display.specshow(\n",
    "    np.asarray(input_features[0]),\n",
    "    x_axis=\"time\",\n",
    "    y_axis=\"mel\",\n",
    "    sr=feature_extractor.sampling_rate,\n",
    "    hop_length=feature_extractor.hop_length,\n",
    ")\n",
    "plt.colorbar()\n",
    "```\n",
    "\n",
    "#### 3.2.3.3 after speech recognization\n",
    "\n",
    "However, many tasks involving audio are multimodal, e.g. speech recognition. In such cases 🤗 Transformers also offer model-specific tokenizers to process the text inputs. For a deep dive into tokenizers, please refer to our NLP course."
   ]
  },
  {
   "cell_type": "markdown",
   "id": "e6e0d2f0-c182-49a3-b4b1-7c4dd1e0d3d2",
   "metadata": {},
   "source": [
    "# 4 Streaming audio data\n",
    "\n",
    "One of the biggest challenges faced with audio datasets is their sheer size. A single minute of uncompressed CD-quality audio (44.1kHz, 16-bit) takes up a bit more than 5 MB of storage. Typically, an audio dataset would contains hours of recordings.\n",
    "\n",
    "- about 10 hours of training data, but takes over 13GB of storage space for download and preparation.\n",
    "- about 10,000 hours of training data, requiring over 1TB of storage space.\n",
    "\n",
    "For most of us, this well exceeds the specifications of a typical hard drive disk. Do we need to fork out and buy additional storage? Or is there a way we can train on these datasets with no disk space constraints?\n",
    "\n",
    "🤗 Datasets comes to the rescue by offering the [streaming mode](https://huggingface.co/docs/datasets/stream). \n",
    "\n",
    "Of course, this technique has its pros and fits."
   ]
  }
 ],
 "metadata": {
  "kernelspec": {
   "display_name": "Python 3 (ipykernel)",
   "language": "python",
   "name": "python3"
  },
  "language_info": {
   "codemirror_mode": {
    "name": "ipython",
    "version": 3
   },
   "file_extension": ".py",
   "mimetype": "text/x-python",
   "name": "python",
   "nbconvert_exporter": "python",
   "pygments_lexer": "ipython3",
   "version": "3.9.16"
  }
 },
 "nbformat": 4,
 "nbformat_minor": 5
}
