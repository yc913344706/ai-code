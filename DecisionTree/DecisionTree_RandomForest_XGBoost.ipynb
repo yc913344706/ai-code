{
 "cells": [
  {
   "cell_type": "markdown",
   "id": "e405ff8c-7d66-48a1-a987-11daed5cbb8b",
   "metadata": {},
   "source": [
    "## 1 problem statement\n",
    "From [Kaggle](https://www.kaggle.com/datasets/fedesoriano/heart-failure-prediction)\n",
    "\n",
    "Context\n",
    "Cardiovascular diseases (CVDs) are the number 1 cause of death globally, taking an estimated 17.9 million lives each year, which accounts for 31% of all deaths worldwide. Heart failure is a common event caused by CVDs and this dataset contains 11 features that can be used to predict a possible heart disease.\n",
    "\n",
    "People with cardiovascular disease or who are at high cardiovascular risk need early detection and management wherein a machine learning model can be of great help.\n",
    "\n",
    "You will develop models to predict how likely a particular person is in developint cardiovascular disease, given all the information below.\n",
    "\n",
    "#### Attribute Information\n",
    "- Age: age of the patient [years]\n",
    "- Sex: sex of the patient [M: Male, F: Female]\n",
    "- ChestPainType: chest pain type [TA: Typical Angina, ATA: Atypical Angina, NAP: Non-Anginal Pain, ASY: Asymptomatic]\n",
    "- RestingBP: resting blood pressure [mm Hg]\n",
    "- Cholesterol: serum cholesterol [mm/dl]\n",
    "- FastingBS: fasting blood sugar [1: if FastingBS > 120 mg/dl, 0: otherwise]\n",
    "- RestingECG: resting electrocardiogram results [Normal: Normal, ST: having ST-T wave abnormality (T wave inversions and/or ST elevation or depression of > 0.05 mV), LVH: showing probable or definite left ventricular hypertrophy by Estes' criteria]\n",
    "- MaxHR: maximum heart rate achieved [Numeric value between 60 and 202]\n",
    "- ExerciseAngina: exercise-induced angina [Y: Yes, N: No]\n",
    "- Oldpeak: oldpeak = ST [Numeric value measured in depression]\n",
    "- ST_Slope: the slope of the peak exercise ST segment [Up: upsloping, Flat: flat, Down: downsloping]\n",
    "- HeartDisease: output class [1: heart disease, 0: Normal]"
   ]
  },
  {
   "cell_type": "markdown",
   "id": "729a5309-d312-40fd-be7c-a0546f7fa298",
   "metadata": {},
   "source": [
    "## 2 prepare data\n",
    "\n",
    "### 2.1 load dataset"
   ]
  },
  {
   "cell_type": "code",
   "execution_count": 1,
   "id": "01495725-63ea-41c4-9189-3af2bbf2741a",
   "metadata": {},
   "outputs": [
    {
     "data": {
      "text/html": [
       "<div>\n",
       "<style scoped>\n",
       "    .dataframe tbody tr th:only-of-type {\n",
       "        vertical-align: middle;\n",
       "    }\n",
       "\n",
       "    .dataframe tbody tr th {\n",
       "        vertical-align: top;\n",
       "    }\n",
       "\n",
       "    .dataframe thead th {\n",
       "        text-align: right;\n",
       "    }\n",
       "</style>\n",
       "<table border=\"1\" class=\"dataframe\">\n",
       "  <thead>\n",
       "    <tr style=\"text-align: right;\">\n",
       "      <th></th>\n",
       "      <th>Age</th>\n",
       "      <th>Sex</th>\n",
       "      <th>ChestPainType</th>\n",
       "      <th>RestingBP</th>\n",
       "      <th>Cholesterol</th>\n",
       "      <th>FastingBS</th>\n",
       "      <th>RestingECG</th>\n",
       "      <th>MaxHR</th>\n",
       "      <th>ExerciseAngina</th>\n",
       "      <th>Oldpeak</th>\n",
       "      <th>ST_Slope</th>\n",
       "      <th>HeartDisease</th>\n",
       "    </tr>\n",
       "  </thead>\n",
       "  <tbody>\n",
       "    <tr>\n",
       "      <th>0</th>\n",
       "      <td>40</td>\n",
       "      <td>M</td>\n",
       "      <td>ATA</td>\n",
       "      <td>140</td>\n",
       "      <td>289</td>\n",
       "      <td>0</td>\n",
       "      <td>Normal</td>\n",
       "      <td>172</td>\n",
       "      <td>N</td>\n",
       "      <td>0.0</td>\n",
       "      <td>Up</td>\n",
       "      <td>0</td>\n",
       "    </tr>\n",
       "    <tr>\n",
       "      <th>1</th>\n",
       "      <td>49</td>\n",
       "      <td>F</td>\n",
       "      <td>NAP</td>\n",
       "      <td>160</td>\n",
       "      <td>180</td>\n",
       "      <td>0</td>\n",
       "      <td>Normal</td>\n",
       "      <td>156</td>\n",
       "      <td>N</td>\n",
       "      <td>1.0</td>\n",
       "      <td>Flat</td>\n",
       "      <td>1</td>\n",
       "    </tr>\n",
       "    <tr>\n",
       "      <th>2</th>\n",
       "      <td>37</td>\n",
       "      <td>M</td>\n",
       "      <td>ATA</td>\n",
       "      <td>130</td>\n",
       "      <td>283</td>\n",
       "      <td>0</td>\n",
       "      <td>ST</td>\n",
       "      <td>98</td>\n",
       "      <td>N</td>\n",
       "      <td>0.0</td>\n",
       "      <td>Up</td>\n",
       "      <td>0</td>\n",
       "    </tr>\n",
       "    <tr>\n",
       "      <th>3</th>\n",
       "      <td>48</td>\n",
       "      <td>F</td>\n",
       "      <td>ASY</td>\n",
       "      <td>138</td>\n",
       "      <td>214</td>\n",
       "      <td>0</td>\n",
       "      <td>Normal</td>\n",
       "      <td>108</td>\n",
       "      <td>Y</td>\n",
       "      <td>1.5</td>\n",
       "      <td>Flat</td>\n",
       "      <td>1</td>\n",
       "    </tr>\n",
       "    <tr>\n",
       "      <th>4</th>\n",
       "      <td>54</td>\n",
       "      <td>M</td>\n",
       "      <td>NAP</td>\n",
       "      <td>150</td>\n",
       "      <td>195</td>\n",
       "      <td>0</td>\n",
       "      <td>Normal</td>\n",
       "      <td>122</td>\n",
       "      <td>N</td>\n",
       "      <td>0.0</td>\n",
       "      <td>Up</td>\n",
       "      <td>0</td>\n",
       "    </tr>\n",
       "  </tbody>\n",
       "</table>\n",
       "</div>"
      ],
      "text/plain": [
       "   Age Sex ChestPainType  RestingBP  Cholesterol  FastingBS RestingECG  MaxHR  \\\n",
       "0   40   M           ATA        140          289          0     Normal    172   \n",
       "1   49   F           NAP        160          180          0     Normal    156   \n",
       "2   37   M           ATA        130          283          0         ST     98   \n",
       "3   48   F           ASY        138          214          0     Normal    108   \n",
       "4   54   M           NAP        150          195          0     Normal    122   \n",
       "\n",
       "  ExerciseAngina  Oldpeak ST_Slope  HeartDisease  \n",
       "0              N      0.0       Up             0  \n",
       "1              N      1.0     Flat             1  \n",
       "2              N      0.0       Up             0  \n",
       "3              Y      1.5     Flat             1  \n",
       "4              N      0.0       Up             0  "
      ]
     },
     "execution_count": 1,
     "metadata": {},
     "output_type": "execute_result"
    }
   ],
   "source": [
    "# Load the dataset using pandas\n",
    "import pandas as pd\n",
    "\n",
    "df = pd.read_csv(\"data/heart.csv\")\n",
    "\n",
    "df.head()"
   ]
  },
  {
   "cell_type": "markdown",
   "id": "e419235a-bcf5-4aaf-918c-f3dd0547a1eb",
   "metadata": {},
   "source": [
    "### 2.2. One-hot encoding using Pandas\n",
    "\n",
    "First you will remove the binary variables, because one-hot encoding them would do nothing to them. To achieve this you will just count how many different values there are in each categorical variable and consider only the variables with 3 or more values."
   ]
  },
  {
   "cell_type": "code",
   "execution_count": 2,
   "id": "eefbdaff-efd5-4e0c-a910-f420f141632f",
   "metadata": {},
   "outputs": [
    {
     "data": {
      "text/html": [
       "<div>\n",
       "<style scoped>\n",
       "    .dataframe tbody tr th:only-of-type {\n",
       "        vertical-align: middle;\n",
       "    }\n",
       "\n",
       "    .dataframe tbody tr th {\n",
       "        vertical-align: top;\n",
       "    }\n",
       "\n",
       "    .dataframe thead th {\n",
       "        text-align: right;\n",
       "    }\n",
       "</style>\n",
       "<table border=\"1\" class=\"dataframe\">\n",
       "  <thead>\n",
       "    <tr style=\"text-align: right;\">\n",
       "      <th></th>\n",
       "      <th>Age</th>\n",
       "      <th>RestingBP</th>\n",
       "      <th>Cholesterol</th>\n",
       "      <th>FastingBS</th>\n",
       "      <th>MaxHR</th>\n",
       "      <th>Oldpeak</th>\n",
       "      <th>HeartDisease</th>\n",
       "      <th>Sex_F</th>\n",
       "      <th>Sex_M</th>\n",
       "      <th>ChestPainType_ASY</th>\n",
       "      <th>...</th>\n",
       "      <th>ChestPainType_NAP</th>\n",
       "      <th>ChestPainType_TA</th>\n",
       "      <th>RestingECG_LVH</th>\n",
       "      <th>RestingECG_Normal</th>\n",
       "      <th>RestingECG_ST</th>\n",
       "      <th>ExerciseAngina_N</th>\n",
       "      <th>ExerciseAngina_Y</th>\n",
       "      <th>ST_Slope_Down</th>\n",
       "      <th>ST_Slope_Flat</th>\n",
       "      <th>ST_Slope_Up</th>\n",
       "    </tr>\n",
       "  </thead>\n",
       "  <tbody>\n",
       "    <tr>\n",
       "      <th>0</th>\n",
       "      <td>40</td>\n",
       "      <td>140</td>\n",
       "      <td>289</td>\n",
       "      <td>0</td>\n",
       "      <td>172</td>\n",
       "      <td>0.0</td>\n",
       "      <td>0</td>\n",
       "      <td>False</td>\n",
       "      <td>True</td>\n",
       "      <td>False</td>\n",
       "      <td>...</td>\n",
       "      <td>False</td>\n",
       "      <td>False</td>\n",
       "      <td>False</td>\n",
       "      <td>True</td>\n",
       "      <td>False</td>\n",
       "      <td>True</td>\n",
       "      <td>False</td>\n",
       "      <td>False</td>\n",
       "      <td>False</td>\n",
       "      <td>True</td>\n",
       "    </tr>\n",
       "    <tr>\n",
       "      <th>1</th>\n",
       "      <td>49</td>\n",
       "      <td>160</td>\n",
       "      <td>180</td>\n",
       "      <td>0</td>\n",
       "      <td>156</td>\n",
       "      <td>1.0</td>\n",
       "      <td>1</td>\n",
       "      <td>True</td>\n",
       "      <td>False</td>\n",
       "      <td>False</td>\n",
       "      <td>...</td>\n",
       "      <td>True</td>\n",
       "      <td>False</td>\n",
       "      <td>False</td>\n",
       "      <td>True</td>\n",
       "      <td>False</td>\n",
       "      <td>True</td>\n",
       "      <td>False</td>\n",
       "      <td>False</td>\n",
       "      <td>True</td>\n",
       "      <td>False</td>\n",
       "    </tr>\n",
       "    <tr>\n",
       "      <th>2</th>\n",
       "      <td>37</td>\n",
       "      <td>130</td>\n",
       "      <td>283</td>\n",
       "      <td>0</td>\n",
       "      <td>98</td>\n",
       "      <td>0.0</td>\n",
       "      <td>0</td>\n",
       "      <td>False</td>\n",
       "      <td>True</td>\n",
       "      <td>False</td>\n",
       "      <td>...</td>\n",
       "      <td>False</td>\n",
       "      <td>False</td>\n",
       "      <td>False</td>\n",
       "      <td>False</td>\n",
       "      <td>True</td>\n",
       "      <td>True</td>\n",
       "      <td>False</td>\n",
       "      <td>False</td>\n",
       "      <td>False</td>\n",
       "      <td>True</td>\n",
       "    </tr>\n",
       "    <tr>\n",
       "      <th>3</th>\n",
       "      <td>48</td>\n",
       "      <td>138</td>\n",
       "      <td>214</td>\n",
       "      <td>0</td>\n",
       "      <td>108</td>\n",
       "      <td>1.5</td>\n",
       "      <td>1</td>\n",
       "      <td>True</td>\n",
       "      <td>False</td>\n",
       "      <td>True</td>\n",
       "      <td>...</td>\n",
       "      <td>False</td>\n",
       "      <td>False</td>\n",
       "      <td>False</td>\n",
       "      <td>True</td>\n",
       "      <td>False</td>\n",
       "      <td>False</td>\n",
       "      <td>True</td>\n",
       "      <td>False</td>\n",
       "      <td>True</td>\n",
       "      <td>False</td>\n",
       "    </tr>\n",
       "    <tr>\n",
       "      <th>4</th>\n",
       "      <td>54</td>\n",
       "      <td>150</td>\n",
       "      <td>195</td>\n",
       "      <td>0</td>\n",
       "      <td>122</td>\n",
       "      <td>0.0</td>\n",
       "      <td>0</td>\n",
       "      <td>False</td>\n",
       "      <td>True</td>\n",
       "      <td>False</td>\n",
       "      <td>...</td>\n",
       "      <td>True</td>\n",
       "      <td>False</td>\n",
       "      <td>False</td>\n",
       "      <td>True</td>\n",
       "      <td>False</td>\n",
       "      <td>True</td>\n",
       "      <td>False</td>\n",
       "      <td>False</td>\n",
       "      <td>False</td>\n",
       "      <td>True</td>\n",
       "    </tr>\n",
       "  </tbody>\n",
       "</table>\n",
       "<p>5 rows × 21 columns</p>\n",
       "</div>"
      ],
      "text/plain": [
       "   Age  RestingBP  Cholesterol  FastingBS  MaxHR  Oldpeak  HeartDisease  \\\n",
       "0   40        140          289          0    172      0.0             0   \n",
       "1   49        160          180          0    156      1.0             1   \n",
       "2   37        130          283          0     98      0.0             0   \n",
       "3   48        138          214          0    108      1.5             1   \n",
       "4   54        150          195          0    122      0.0             0   \n",
       "\n",
       "   Sex_F  Sex_M  ChestPainType_ASY  ...  ChestPainType_NAP  ChestPainType_TA  \\\n",
       "0  False   True              False  ...              False             False   \n",
       "1   True  False              False  ...               True             False   \n",
       "2  False   True              False  ...              False             False   \n",
       "3   True  False               True  ...              False             False   \n",
       "4  False   True              False  ...               True             False   \n",
       "\n",
       "   RestingECG_LVH  RestingECG_Normal  RestingECG_ST  ExerciseAngina_N  \\\n",
       "0           False               True          False              True   \n",
       "1           False               True          False              True   \n",
       "2           False              False           True              True   \n",
       "3           False               True          False             False   \n",
       "4           False               True          False              True   \n",
       "\n",
       "   ExerciseAngina_Y  ST_Slope_Down  ST_Slope_Flat  ST_Slope_Up  \n",
       "0             False          False          False         True  \n",
       "1             False          False           True        False  \n",
       "2             False          False          False         True  \n",
       "3              True          False           True        False  \n",
       "4             False          False          False         True  \n",
       "\n",
       "[5 rows x 21 columns]"
      ]
     },
     "execution_count": 2,
     "metadata": {},
     "output_type": "execute_result"
    }
   ],
   "source": [
    "cat_variables = ['Sex',\n",
    "'ChestPainType',\n",
    "'RestingECG',\n",
    "'ExerciseAngina',\n",
    "'ST_Slope'\n",
    "]\n",
    "\n",
    "# This will replace the columns with the one-hot encoded ones and keep the columns outside 'columns' argument as it is.\n",
    "df = pd.get_dummies(\n",
    "    data = df,\n",
    "    prefix = cat_variables,\n",
    "    columns = cat_variables)\n",
    "\n",
    "df.head()\n"
   ]
  },
  {
   "cell_type": "code",
   "execution_count": 3,
   "id": "b64eb3ff-4401-4ffd-826e-9d803bbb36e0",
   "metadata": {},
   "outputs": [
    {
     "name": "stdout",
     "output_type": "stream",
     "text": [
      "20\n"
     ]
    }
   ],
   "source": [
    "var = [x for x in df.columns if x not in 'HeartDisease'] ## Removing our target variable\n",
    "print(len(var))\n"
   ]
  },
  {
   "cell_type": "markdown",
   "id": "86878779-9d8d-4b7b-87d7-f6f1b34efee6",
   "metadata": {},
   "source": [
    "### 2.3 split dataset"
   ]
  },
  {
   "cell_type": "code",
   "execution_count": 4,
   "id": "d320fa9a-0c42-4725-8b86-9da1d45b305f",
   "metadata": {},
   "outputs": [
    {
     "name": "stdout",
     "output_type": "stream",
     "text": [
      "train samples: 734\n",
      "test samples: 184\n",
      "target proportion: 0.5518\n"
     ]
    }
   ],
   "source": [
    "from sklearn.model_selection import train_test_split\n",
    "\n",
    "RANDOM_STATE = 55 ## You will pass it to every sklearn call so we ensure reproducibility\n",
    "\n",
    "X_train, X_test, y_train, y_test = train_test_split(df[var], df['HeartDisease'], train_size = 0.8, random_state = RANDOM_STATE)\n",
    "\n",
    "print(f'train samples: {len(X_train)}\\ntest samples: {len(X_test)}')\n",
    "print(f'target proportion: {sum(y_train)/len(y_train):.4f}')"
   ]
  },
  {
   "cell_type": "markdown",
   "id": "b9f69371-3785-44b6-9516-8ef5006b673e",
   "metadata": {},
   "source": [
    "## 3 Decision Tree\n",
    "\n",
    "### 3.1 build model"
   ]
  },
  {
   "cell_type": "code",
   "execution_count": 8,
   "id": "bd51f2e0-6135-44a5-939d-adde82905804",
   "metadata": {},
   "outputs": [],
   "source": [
    "min_samples_split_list = [2,10, 30, 50, 100, 200, 300, 700] ## If the number is an integer, then it is the actual quantity of samples,\n",
    "max_depth_list = [1,2, 3, 4, 8, 16, 32, 64, None] # None means that there is no depth limit."
   ]
  },
  {
   "cell_type": "markdown",
   "id": "12de3d0e-a7e2-4b71-90ab-bceb0174ebdf",
   "metadata": {},
   "source": [
    "#### 3.1.1 experiment the min samples split num"
   ]
  },
  {
   "cell_type": "code",
   "execution_count": 25,
   "id": "1cf33267-5ac7-4616-b98e-9083350a7511",
   "metadata": {},
   "outputs": [],
   "source": [
    "import numpy as np\n",
    "def get_approprate_x(accuracy_list_train, accuracy_list_test, x_list):\n",
    "    res = -1\n",
    "    max_distance = np.inf\n",
    "    for i in range(len(x_list)):\n",
    "        train_accuracy = accuracy_list_train[i]\n",
    "        test_accuracy = accuracy_list_test[i]\n",
    "        this_distance = (train_accuracy - test_accuracy) ** 2\n",
    "        if this_distance < max_distance:\n",
    "            res = i\n",
    "            max_distance = this_distance\n",
    "            \n",
    "    return x_list[res]\n"
   ]
  },
  {
   "cell_type": "code",
   "execution_count": 26,
   "id": "f0cf9564-d799-4332-8176-4db23dad1ddd",
   "metadata": {},
   "outputs": [],
   "source": [
    "from sklearn.tree import DecisionTreeClassifier\n",
    "from sklearn.metrics import accuracy_score\n",
    "\n",
    "accuracy_list_train = []\n",
    "accuracy_list_test = []\n",
    "for min_samples_split in min_samples_split_list:\n",
    "    # You can fit the model at the same time you define it, because the fit function returns the fitted estimator.\n",
    "    model = DecisionTreeClassifier(min_samples_split = min_samples_split,\n",
    "                                   random_state = RANDOM_STATE).fit(X_train,y_train) \n",
    "    predictions_train = model.predict(X_train) ## The predicted values for the train dataset\n",
    "    predictions_test = model.predict(X_test) ## The predicted values for the test dataset\n",
    "    accuracy_train = accuracy_score(predictions_train,y_train)\n",
    "    accuracy_test = accuracy_score(predictions_test,y_test)\n",
    "    accuracy_list_train.append(accuracy_train)\n",
    "    accuracy_list_test.append(accuracy_test)\n"
   ]
  },
  {
   "cell_type": "code",
   "execution_count": 27,
   "id": "1c4f4c65-8316-4ba7-869f-13bcb0f966f6",
   "metadata": {},
   "outputs": [
    {
     "name": "stdout",
     "output_type": "stream",
     "text": [
      "min_samples_split: 200\n"
     ]
    },
    {
     "data": {
      "image/png": "[encoded data removed]",
      "text/plain": [
       "<Figure size 640x480 with 1 Axes>"
      ]
     },
     "metadata": {},
     "output_type": "display_data"
    }
   ],
   "source": [
    "import matplotlib.pyplot as plt\n",
    "plt.style.use('../lib/deeplearning.mplstyle')\n",
    "\n",
    "def plot_accuracy(x_list, accuracy_list_train, accuracy_list_test, x_label):\n",
    "    plt.title('Train x Test metrics')\n",
    "    plt.xlabel(x_label)\n",
    "    plt.ylabel('accuracy')\n",
    "    plt.xticks(ticks = range(len(x_list )),labels=x_list)\n",
    "    plt.plot(accuracy_list_train)\n",
    "    plt.plot(accuracy_list_test)\n",
    "    plt.legend(['Train','Test'])\n",
    "\n",
    "plot_accuracy(min_samples_split_list, accuracy_list_train, accuracy_list_test, 'min_samples_split')\n",
    "# print('min_samples_split: {}'.format(get_approprate_x(accuracy_list_train, accuracy_list_test, min_samples_split_list)))"
   ]
  },
  {
   "cell_type": "markdown",
   "id": "c71056a9-c7a0-4f45-9c07-8f015828c02c",
   "metadata": {},
   "source": [
    "#### 3.1.2 experiment the max depth"
   ]
  },
  {
   "cell_type": "code",
   "execution_count": 29,
   "id": "f95649db-f6c9-45e2-85d2-ce6dfa7ec8d8",
   "metadata": {},
   "outputs": [
    {
     "name": "stdout",
     "output_type": "stream",
     "text": [
      "max_depth: 3\n"
     ]
    },
    {
     "data": {
      "image/png": "[encoded data removed]",
      "text/plain": [
       "<Figure size 640x480 with 1 Axes>"
      ]
     },
     "metadata": {},
     "output_type": "display_data"
    }
   ],
   "source": [
    "accuracy_list_train = []\n",
    "accuracy_list_test = []\n",
    "for max_depth in max_depth_list:\n",
    "    # You can fit the model at the same time you define it, because the fit function returns the fitted estimator.\n",
    "    model = DecisionTreeClassifier(max_depth = max_depth,\n",
    "                                   random_state = RANDOM_STATE).fit(X_train,y_train) \n",
    "    predictions_train = model.predict(X_train) ## The predicted values for the train dataset\n",
    "    predictions_test = model.predict(X_test) ## The predicted values for the test dataset\n",
    "    accuracy_train = accuracy_score(predictions_train,y_train)\n",
    "    accuracy_test = accuracy_score(predictions_test,y_test)\n",
    "    accuracy_list_train.append(accuracy_train)\n",
    "    accuracy_list_test.append(accuracy_test)\n",
    "\n",
    "plot_accuracy(max_depth_list, accuracy_list_train, accuracy_list_test, 'max_depth')\n",
    "print('max_depth: {}'.format(get_approprate_x(accuracy_list_train, accuracy_list_test, max_depth_list)))\n"
   ]
  },
  {
   "cell_type": "markdown",
   "id": "8dd7f40a-8438-472c-a65e-2c985457323e",
   "metadata": {},
   "source": [
    "#### 3.1.3 use best param to build model"
   ]
  },
  {
   "cell_type": "markdown",
   "id": "85d8e820-9d4c-4eb8-a61f-e6b187dc091e",
   "metadata": {},
   "source": [
    "The test accuracy reaches the highest at tree_depth=3. When the allowed depth is smaller, the tree cannot make enough splits to distinguish positives from negatives (having the underfit problem), but when the allowed depth is too high ( >= 5), the tree becomes too specialized to the training set and thus losing accuracy to the test dataset (having the overfit problem). Our final tree model then will have:\n",
    "\n",
    "- `max_depth = 3`\n",
    "- `min_samples_split = 50` "
   ]
  },
  {
   "cell_type": "code",
   "execution_count": 31,
   "id": "be0cbb0c-db01-4356-857f-96c7502adbd1",
   "metadata": {},
   "outputs": [],
   "source": [
    "decision_tree_model = DecisionTreeClassifier(min_samples_split = 50,\n",
    "                                             max_depth = 3,\n",
    "                                             random_state = RANDOM_STATE).fit(X_train,y_train)"
   ]
  },
  {
   "cell_type": "markdown",
   "id": "0da77b9e-c310-46fd-9340-9a6aa9a6ed32",
   "metadata": {},
   "source": [
    "### 3.2 predict"
   ]
  },
  {
   "cell_type": "code",
   "execution_count": 35,
   "id": "d5f6a2be-0cdc-45a1-bd21-fe8dbf6a693e",
   "metadata": {},
   "outputs": [
    {
     "name": "stdout",
     "output_type": "stream",
     "text": [
      "Metrics train:\n",
      "\tAccuracy score: 0.8583\n",
      "Metrics test:\n",
      "\tAccuracy score: 0.8641\n"
     ]
    }
   ],
   "source": [
    "print(\"Metrics train:\\n\\tAccuracy score: {:.4f}\\nMetrics test:\\n\\tAccuracy score: {:.4f}\".format(\n",
    "        accuracy_score(decision_tree_model.predict(X_train),y_train),\n",
    "        accuracy_score(decision_tree_model.predict(X_test),y_test)\n",
    "    ))"
   ]
  },
  {
   "cell_type": "markdown",
   "id": "32518531-a098-4321-8409-b2ee29f4d24f",
   "metadata": {},
   "source": [
    "## 4 Random Forest\n",
    "\n",
    "### 4.1 build model\n",
    "\n",
    "Now let's try the Random Forest algorithm also, using the Scikit-learn implementation. Naturally, all of the above hyperparameters will exist in this algorithm, since it is just an ensemble of Decision Trees, but will have another hyperparameter that you will use, called `n_estimators` which is how many different Decision Trees will be fitted. \n",
    "\n",
    "Remember that for a Random Forest, you use a subset of the features AND a subset of the training set to train each tree, chosen randomly. In this case, you will use the number of features as you saw in the lecture, which is $\\sqrt{n}$ where $n$ is the number of features. However, this can be modified. For further information on the Random Forest hyperparameters, you can run `help(RandomForestClassifier)`.\n",
    "\n",
    "Another parameter that does not impact on the final result but can speed up the computation is called `n_jobs`. Since the fitting of each tree is independent of each other, it is possible to run parallel fits. So setting `n_jobs` higher will increase how many CPU cores it will use. Note that the numbers very close to the maximum cores of your CPU may impact on the overall performance of your PC and even lead to freezes. \n",
    "\n",
    "You will run the same script again, but with another parameter, `n_estimators`, where we will choose between 10, 50, and 100. The default is 100."
   ]
  },
  {
   "cell_type": "code",
   "execution_count": 36,
   "id": "2dcd204c-c185-4ad0-a0ce-ec7d3f350120",
   "metadata": {},
   "outputs": [],
   "source": [
    "min_samples_split_list = [2,10, 30, 50, 100, 200, 300, 700]  ## If the number is an integer, then it is the actual quantity of samples,\n",
    "                                             ## If it is a float, then it is the percentage of the dataset\n",
    "max_depth_list = [2, 4, 8, 16, 32, 64, None]\n",
    "n_estimators_list = [10,50,100,500]"
   ]
  },
  {
   "cell_type": "markdown",
   "id": "c5f9eac2-7ca6-439d-836a-6716dad62ac6",
   "metadata": {},
   "source": [
    "#### 4.1.1 experiment the min samples split"
   ]
  },
  {
   "cell_type": "code",
   "execution_count": 38,
   "id": "0f0bd8d9-cd40-4d51-8e4d-d819188a66c2",
   "metadata": {},
   "outputs": [
    {
     "data": {
      "image/png": "[encoded data removed]",
      "text/plain": [
       "<Figure size 640x480 with 1 Axes>"
      ]
     },
     "metadata": {},
     "output_type": "display_data"
    }
   ],
   "source": [
    "from sklearn.ensemble import RandomForestClassifier\n",
    "\n",
    "accuracy_list_train = []\n",
    "accuracy_list_test = []\n",
    "for min_samples_split in min_samples_split_list:\n",
    "    # You can fit the model at the same time you define it, because the fit function returns the fitted estimator.\n",
    "    model = RandomForestClassifier(min_samples_split = min_samples_split,\n",
    "                                   random_state = RANDOM_STATE).fit(X_train,y_train) \n",
    "    predictions_train = model.predict(X_train) ## The predicted values for the train dataset\n",
    "    predictions_test = model.predict(X_test) ## The predicted values for the test dataset\n",
    "    accuracy_train = accuracy_score(predictions_train,y_train)\n",
    "    accuracy_test = accuracy_score(predictions_test,y_test)\n",
    "    accuracy_list_train.append(accuracy_train)\n",
    "    accuracy_list_test.append(accuracy_test)\n",
    "\n",
    "plot_accuracy(min_samples_split_list, accuracy_list_train, accuracy_list_test, 'min_samples_split')"
   ]
  },
  {
   "cell_type": "markdown",
   "id": "b0acd5e5-24b4-4ba5-a31d-8afe1aa98b85",
   "metadata": {},
   "source": [
    "#### 4.1.2 experiment the max depth\n"
   ]
  },
  {
   "cell_type": "code",
   "execution_count": 39,
   "id": "8bad2f5c-52bc-4f3f-95e7-c08103556c91",
   "metadata": {},
   "outputs": [
    {
     "data": {
      "image/png": "[encoded data removed]",
      "text/plain": [
       "<Figure size 640x480 with 1 Axes>"
      ]
     },
     "metadata": {},
     "output_type": "display_data"
    }
   ],
   "source": [
    "accuracy_list_train = []\n",
    "accuracy_list_test = []\n",
    "for max_depth in max_depth_list:\n",
    "    # You can fit the model at the same time you define it, because the fit function returns the fitted estimator.\n",
    "    model = RandomForestClassifier(max_depth = max_depth,\n",
    "                                   random_state = RANDOM_STATE).fit(X_train,y_train) \n",
    "    predictions_train = model.predict(X_train) ## The predicted values for the train dataset\n",
    "    predictions_test = model.predict(X_test) ## The predicted values for the test dataset\n",
    "    accuracy_train = accuracy_score(predictions_train,y_train)\n",
    "    accuracy_test = accuracy_score(predictions_test,y_test)\n",
    "    accuracy_list_train.append(accuracy_train)\n",
    "    accuracy_list_test.append(accuracy_test)\n",
    "\n",
    "plot_accuracy(max_depth_list, accuracy_list_train, accuracy_list_test, 'max_depth')\n"
   ]
  },
  {
   "cell_type": "markdown",
   "id": "463cd120-7fe9-4639-88e9-6a756a4f75f2",
   "metadata": {},
   "source": [
    "#### 4.1.3 experiment the optimal tree numbers"
   ]
  },
  {
   "cell_type": "code",
   "execution_count": 40,
   "id": "65a66e52-cc13-4bd6-92ec-3f64fa16ba13",
   "metadata": {},
   "outputs": [
    {
     "data": {
      "image/png": "[encoded data removed]",
      "text/plain": [
       "<Figure size 640x480 with 1 Axes>"
      ]
     },
     "metadata": {},
     "output_type": "display_data"
    }
   ],
   "source": [
    "accuracy_list_train = []\n",
    "accuracy_list_test = []\n",
    "for n_estimators in n_estimators_list:\n",
    "    # You can fit the model at the same time you define it, because the fit function returns the fitted estimator.\n",
    "    model = RandomForestClassifier(n_estimators = n_estimators,\n",
    "                                   random_state = RANDOM_STATE).fit(X_train,y_train) \n",
    "    predictions_train = model.predict(X_train) ## The predicted values for the train dataset\n",
    "    predictions_test = model.predict(X_test) ## The predicted values for the test dataset\n",
    "    accuracy_train = accuracy_score(predictions_train,y_train)\n",
    "    accuracy_test = accuracy_score(predictions_test,y_test)\n",
    "    accuracy_list_train.append(accuracy_train)\n",
    "    accuracy_list_test.append(accuracy_test)\n",
    "\n",
    "plot_accuracy(n_estimators_list, accuracy_list_train, accuracy_list_test, 'n_estimators')\n"
   ]
  },
  {
   "cell_type": "markdown",
   "id": "a1ab4760-36b8-49d3-bf1d-9d7fb1d18f4b",
   "metadata": {},
   "source": [
    "#### 4.1.4 use best param to build model\n",
    "\n",
    "Let's then fit a random forest with the following parameters:\n",
    "\n",
    " - max_depth: 8\n",
    " - min_samples_split: 10\n",
    " - n_estimators: 100"
   ]
  },
  {
   "cell_type": "code",
   "execution_count": 42,
   "id": "105e5872-ec7c-4a8d-80ae-975e6b1e351e",
   "metadata": {},
   "outputs": [],
   "source": [
    "random_forest_model = RandomForestClassifier(n_estimators = 100,\n",
    "                                             max_depth = 8, \n",
    "                                             min_samples_split = 10).fit(X_train,y_train)"
   ]
  },
  {
   "cell_type": "markdown",
   "id": "e1a0fbc5-918e-49cb-8cac-f86a847456e2",
   "metadata": {},
   "source": [
    "### 4.2 predict"
   ]
  },
  {
   "cell_type": "code",
   "execution_count": 43,
   "id": "27f2df3a-19b2-4601-b2c7-55aeb900b473",
   "metadata": {},
   "outputs": [
    {
     "name": "stdout",
     "output_type": "stream",
     "text": [
      "Metrics train:\n",
      "\tAccuracy score: 0.9196\n",
      "Metrics test:\n",
      "\tAccuracy score: 0.8913\n"
     ]
    }
   ],
   "source": [
    "print(f\"Metrics train:\\n\\tAccuracy score: {accuracy_score(random_forest_model.predict(X_train),y_train):.4f}\\nMetrics test:\\n\\tAccuracy score: {accuracy_score(random_forest_model.predict(X_test),y_test):.4f}\")"
   ]
  },
  {
   "cell_type": "markdown",
   "id": "c9246a70-1dfb-41a7-9130-a9a99bdc5298",
   "metadata": {},
   "source": [
    "You have demonstrated how to look for the best value hyperparameter-by-hyperparameter. However, you should not overlook that as we experiment with one hyperparameter we always have to fix the others at some default values. This makes us only able to tell how the hyperparameter value changes with respect to those defaults. \n",
    "\n",
    "In princple, if you have 4 values to try out in each of the 3 hyperparameters being tuned, you should have a total of 4 x 4 x 4 = 64 combinations, however, the way you are doing will only give us 4 + 4 + 4 = 12 results. \n",
    "\n",
    "To try out all combinations, you can use a sklearn implementation called GridSearchCV, moreover, it has a refit parameter that will automatically refit a model on the best combination so you will not need to program it explicitly. \n",
    "\n",
    "For more on GridSearchCV, please refer to its [documentation](https://scikit-learn.org/stable/modules/generated/sklearn.model_selection.GridSearchCV.html)."
   ]
  },
  {
   "cell_type": "markdown",
   "id": "9d1b9ddf-5ec6-49ba-8504-828b70c60970",
   "metadata": {},
   "source": [
    "## 5 XGBoost\n",
    "\n",
    "Now, the last model you will test in this lab is the Gradient Boosting model, called XGBoost. As you've seen in the lectures, the boosting methods train several trees, but instead of them being uncorrelated to each other, now the trees are fitted subsequently to minimize the error. \n",
    "\n",
    "The parameters that this model comprises is the same as the parameters for any decision tree, plus some others, such as:\n",
    "- the learning rate, which is the size of the step on the Gradient Descent method that the XGBoost uses internally to minimize the error on each train step.\n",
    "\n",
    "One interesting thing about the XGBoost is that it allows, during the fit, to pass a list evaluation datasets of the form `(X_val,y_val)`, where on each iteration, it measures the cost (or evaluation metric) on the evaluation datasets so that once the cost (or metric) stops to descrease for a number of rounds (called early_stopping_rounds), the training will stop. \n",
    "\n",
    "This is how we can automatically control how many estimators is enough, and how we can avoid overfitting due to too many estimators.\n",
    "\n",
    "### 5.1 build model\n",
    "\n",
    "First, let's define a subset of our training set (we should not use the test set here)."
   ]
  },
  {
   "cell_type": "code",
   "execution_count": 5,
   "id": "1dddcf13-e352-4e99-9b64-2eed3d02cdf4",
   "metadata": {},
   "outputs": [],
   "source": [
    "n = int(len(X_train)*0.8) ## Let's use 80% to train and 20% to eval\n",
    "\n",
    "X_train_fit, X_train_eval, y_train_fit, y_train_eval = X_train[:n], X_train[n:], y_train[:n], y_train[n:]"
   ]
  },
  {
   "cell_type": "code",
   "execution_count": 10,
   "id": "a7f53d3d-3e19-45da-8edc-d1f916a2b2c9",
   "metadata": {},
   "outputs": [
    {
     "name": "stdout",
     "output_type": "stream",
     "text": [
      "[0]\tvalidation_0-logloss:0.63302\n",
      "[1]\tvalidation_0-logloss:0.59554\n",
      "[2]\tvalidation_0-logloss:0.56614\n",
      "[3]\tvalidation_0-logloss:0.54187\n",
      "[4]\tvalidation_0-logloss:0.52349\n",
      "[5]\tvalidation_0-logloss:0.50611\n",
      "[6]\tvalidation_0-logloss:0.49373\n",
      "[7]\tvalidation_0-logloss:0.48366\n",
      "[8]\tvalidation_0-logloss:0.47323\n",
      "[9]\tvalidation_0-logloss:0.46538\n",
      "[10]\tvalidation_0-logloss:0.46000\n",
      "[11]\tvalidation_0-logloss:0.45621\n",
      "[12]\tvalidation_0-logloss:0.45483\n",
      "[13]\tvalidation_0-logloss:0.44975\n",
      "[14]\tvalidation_0-logloss:0.44495\n",
      "[15]\tvalidation_0-logloss:0.44073\n",
      "[16]\tvalidation_0-logloss:0.44078\n",
      "[17]\tvalidation_0-logloss:0.43936\n",
      "[18]\tvalidation_0-logloss:0.44206\n",
      "[19]\tvalidation_0-logloss:0.44536\n",
      "[20]\tvalidation_0-logloss:0.44322\n",
      "[21]\tvalidation_0-logloss:0.44310\n",
      "[22]\tvalidation_0-logloss:0.44419\n",
      "[23]\tvalidation_0-logloss:0.44797\n",
      "[24]\tvalidation_0-logloss:0.44843\n",
      "[25]\tvalidation_0-logloss:0.45337\n",
      "[26]\tvalidation_0-logloss:0.45206\n",
      "[27]\tvalidation_0-logloss:0.45435\n",
      "[28]\tvalidation_0-logloss:0.45316\n",
      "[29]\tvalidation_0-logloss:0.45524\n",
      "[30]\tvalidation_0-logloss:0.45401\n",
      "[31]\tvalidation_0-logloss:0.45349\n",
      "[32]\tvalidation_0-logloss:0.45437\n",
      "[33]\tvalidation_0-logloss:0.45625\n",
      "[34]\tvalidation_0-logloss:0.45458\n",
      "[35]\tvalidation_0-logloss:0.45467\n",
      "[36]\tvalidation_0-logloss:0.45771\n",
      "[37]\tvalidation_0-logloss:0.45972\n",
      "[38]\tvalidation_0-logloss:0.46170\n",
      "[39]\tvalidation_0-logloss:0.46459\n",
      "[40]\tvalidation_0-logloss:0.46673\n",
      "[41]\tvalidation_0-logloss:0.46745\n",
      "[42]\tvalidation_0-logloss:0.46765\n",
      "[43]\tvalidation_0-logloss:0.46790\n",
      "[44]\tvalidation_0-logloss:0.47139\n",
      "[45]\tvalidation_0-logloss:0.47243\n",
      "[46]\tvalidation_0-logloss:0.47138\n",
      "[47]\tvalidation_0-logloss:0.47377\n",
      "[48]\tvalidation_0-logloss:0.47644\n",
      "[49]\tvalidation_0-logloss:0.47711\n",
      "[50]\tvalidation_0-logloss:0.47813\n",
      "[51]\tvalidation_0-logloss:0.47792\n",
      "[52]\tvalidation_0-logloss:0.48056\n",
      "[53]\tvalidation_0-logloss:0.48048\n",
      "[54]\tvalidation_0-logloss:0.48240\n",
      "[55]\tvalidation_0-logloss:0.48509\n",
      "[56]\tvalidation_0-logloss:0.48523\n",
      "[57]\tvalidation_0-logloss:0.48638\n",
      "[58]\tvalidation_0-logloss:0.48457\n",
      "[59]\tvalidation_0-logloss:0.48534\n",
      "[60]\tvalidation_0-logloss:0.48637\n",
      "[61]\tvalidation_0-logloss:0.48847\n",
      "[62]\tvalidation_0-logloss:0.49046\n",
      "[63]\tvalidation_0-logloss:0.49263\n",
      "[64]\tvalidation_0-logloss:0.49466\n",
      "[65]\tvalidation_0-logloss:0.49539\n",
      "[66]\tvalidation_0-logloss:0.49581\n",
      "[67]\tvalidation_0-logloss:0.49613\n"
     ]
    },
    {
     "data": {
      "text/plain": [
       "17"
      ]
     },
     "execution_count": 10,
     "metadata": {},
     "output_type": "execute_result"
    }
   ],
   "source": [
    "from xgboost import XGBClassifier\n",
    "\n",
    "xgb_model = XGBClassifier(n_estimators = 500, learning_rate = 0.1,verbosity = 1, random_state = RANDOM_STATE, early_stopping_rounds=50)\n",
    "\n",
    "# The parameter early_stopping_rounds:\n",
    "#   - is the number of iterations that it will wait to check if the cost function decreased or not.\n",
    "#   - If not, it will stop and get the iteration that returned the lowest metric on the eval set.\n",
    "\n",
    "xgb_model.fit(X_train_fit,y_train_fit, eval_set=[(X_train_eval,y_train_eval)])\n",
    "\n",
    "# Here we must pass a list to the eval_set, because you can have several different tuples ov eval sets. \n",
    "\n",
    "xgb_model.best_iteration"
   ]
  },
  {
   "cell_type": "markdown",
   "id": "410cccd4-8619-4cfa-8ae7-a3ac8864ece4",
   "metadata": {},
   "source": [
    "As you can see, even though you passed 500 estimators to fit, the algorithm only fitted 66 because the log-loss used to metrify the training rounds started to increase. In fact, the number of estimators is even less than 66. If you take a closeer look to the metrics, you see that with 16 fitted trees, we achieved the minimum value of the log-loss, and in fact, this is the number of fitted trees in the final model:"
   ]
  },
  {
   "cell_type": "markdown",
   "id": "8b91e898-c487-4fc4-b2b0-808996ca4b5c",
   "metadata": {},
   "source": [
    "### 5.2 predict"
   ]
  },
  {
   "cell_type": "code",
   "execution_count": 12,
   "id": "cba82711-167d-4311-be4b-65c3e1573e1c",
   "metadata": {},
   "outputs": [
    {
     "name": "stdout",
     "output_type": "stream",
     "text": [
      "Metrics train:\n",
      "\tAccuracy score: 0.9319\n",
      "Metrics test:\n",
      "\tAccuracy score: 0.8533\n"
     ]
    }
   ],
   "source": [
    "from sklearn.metrics import accuracy_score\n",
    "\n",
    "print(\"Metrics train:\\n\\tAccuracy score: {:.4f}\\nMetrics test:\\n\\tAccuracy score: {:.4f}\".format(\n",
    "    accuracy_score(xgb_model.predict(X_train),y_train),\n",
    "    accuracy_score(xgb_model.predict(X_test),y_test)\n",
    "))"
   ]
  },
  {
   "cell_type": "markdown",
   "id": "fe1b2511-d4b4-4e01-8fea-cc0b9a0560da",
   "metadata": {},
   "source": [
    "You can see that RandomForest achieved the best accuracy, but the results overall were close. \n",
    "\n",
    "And note that we got a very close test metric with XGBoost compared to RandomForest, and we didn't even performed any hyperparameter search! \n",
    "\n",
    "The advantage of XGBoost is that it is faster than the Random Forest and also it has more parameters, therefore you are able to fine-tune the model to achieve even better results."
   ]
  },
  {
   "cell_type": "code",
   "execution_count": null,
   "id": "b641988e-7b4f-473f-8214-0a431b76965d",
   "metadata": {},
   "outputs": [],
   "source": []
  }
 ],
 "metadata": {
  "kernelspec": {
   "display_name": "Python 3 (ipykernel)",
   "language": "python",
   "name": "python3"
  },
  "language_info": {
   "codemirror_mode": {
    "name": "ipython",
    "version": 3
   },
   "file_extension": ".py",
   "mimetype": "text/x-python",
   "name": "python",
   "nbconvert_exporter": "python",
   "pygments_lexer": "ipython3",
   "version": "3.9.16"
  }
 },
 "nbformat": 4,
 "nbformat_minor": 5
}
